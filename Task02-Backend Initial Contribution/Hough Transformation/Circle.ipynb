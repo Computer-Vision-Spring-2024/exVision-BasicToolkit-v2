{
 "cells": [
  {
   "cell_type": "code",
   "execution_count": 106,
   "metadata": {},
   "outputs": [],
   "source": [
    "import cv2 as cv \n",
    "import matplotlib.pyplot as plt \n",
    "import numpy as np \n",
    "import math"
   ]
  },
  {
   "cell_type": "code",
   "execution_count": 107,
   "metadata": {},
   "outputs": [],
   "source": [
    "image_path = 'download (1).jpeg'\n",
    "\n",
    "# Load the image\n",
    "image = cv.imread(image_path, cv.IMREAD_GRAYSCALE)\n",
    "\n",
    "# Apply Gaussian blur to reduce noise\n",
    "blurred = cv.GaussianBlur(image, (5, 5), 0)\n",
    "\n",
    "# Canny edge detection\n",
    "edges = cv.Canny(blurred, 50, 180)\n",
    "\n",
    "# Display the original image and the edges\n",
    "cv.imshow('Original Image', image)\n",
    "cv.imshow('Canny Edges', edges)\n",
    "cv.waitKey(0)\n",
    "cv.destroyAllWindows()"
   ]
  },
  {
   "cell_type": "markdown",
   "metadata": {},
   "source": [
    "# OpenCV Circle"
   ]
  },
  {
   "cell_type": "code",
   "execution_count": 108,
   "metadata": {},
   "outputs": [],
   "source": [
    "\n",
    "# Load the image\n",
    "image = cv.imread('download (1).jpeg', cv.IMREAD_GRAYSCALE)\n",
    "\n",
    "# Apply Gaussian blur to reduce noise\n",
    "blurred_image = cv.GaussianBlur(image, (5, 5), 0)\n",
    "\n",
    "\n"
   ]
  },
  {
   "cell_type": "markdown",
   "metadata": {},
   "source": [
    "# Helper Functions"
   ]
  },
  {
   "cell_type": "code",
   "execution_count": 109,
   "metadata": {},
   "outputs": [
    {
     "name": "stdout",
     "output_type": "stream",
     "text": [
      "Intersection points and counts: [((2.0, 0.0), 1), ((2.0, -3.4641016151377544), 1)]\n"
     ]
    }
   ],
   "source": [
    "from collections import defaultdict\n",
    "\n",
    "class IntersectionPoints:\n",
    "    def __init__(self):\n",
    "        self.points = defaultdict(int)\n",
    "\n",
    "    def add_point(self, point):\n",
    "        self.points[point] += 1\n",
    "\n",
    "    def get_intersection_points(self):\n",
    "        return [(point, count) for point, count in self.points.items()]\n",
    "\n",
    "def circle_intersection(x1, y1, r1, x2, y2, r2):\n",
    "    # Calculate the distance between the centers of the circles\n",
    "    d = math.sqrt((x2 - x1)**2 + (y2 - y1)**2)\n",
    "\n",
    "    # Check if the circles are separate or coincident\n",
    "    if d > r1 + r2 or d < abs(r1 - r2):\n",
    "        return None  # No intersection\n",
    "\n",
    "    # Calculate the intersection points\n",
    "    a = (r1**2 - r2**2 + d**2) / (2 * d)\n",
    "    h = math.sqrt(r1**2 - a**2)\n",
    "    x3 = x1 + a * (x2 - x1) / d\n",
    "    y3 = y1 + a * (y2 - y1) / d\n",
    "    x4 = x3 + h * (y2 - y1) / d\n",
    "    y4 = y3 - h * (x2 - x1) / d\n",
    "\n",
    "    # If the circles are coincident, return just one intersection point\n",
    "    if d == abs(r1 + r2):\n",
    "        return [(x3, y3)]\n",
    "\n",
    "    return [(x3, y3), (x4, y4)]\n",
    "\n",
    "# Example usage\n",
    "intersection_points = IntersectionPoints()\n",
    "x1, y1, r1 = 0, 0, 4\n",
    "x2, y2, r2 = 4, 0, 4\n",
    "points = circle_intersection(x1, y1, r1, x2, y2, r2)\n",
    "if points:\n",
    "    for point in points:\n",
    "        intersection_points.add_point(point)\n",
    "\n",
    "print(\"Intersection points and counts:\", intersection_points.get_intersection_points())\n"
   ]
  },
  {
   "cell_type": "markdown",
   "metadata": {},
   "source": [
    "# From Scratch Implementation"
   ]
  },
  {
   "cell_type": "code",
   "execution_count": 110,
   "metadata": {},
   "outputs": [],
   "source": [
    "import numpy as np\n",
    "\n",
    "#dp to control accumulator size, min_dist to control accepted circles according to the distance bet. their centers\n",
    "def hough_circle_transform(image, min_radius, max_radius, accumulator_threshold, dp, min_dist):\n",
    "    # Define Hough space dimensions based on image size and radius range\n",
    "    height, width = image.shape\n",
    "    # Define resolution of the accumulator\n",
    "    accumulator_height = int(height / dp)\n",
    "    accumulator_width = int(width / dp)\n",
    "    # Define number of radii\n",
    "    num_radii = max_radius - min_radius + 1\n",
    "    # Initialize the 3D Hough space to specify (a, b) for each radius later on\n",
    "    accumulator = np.zeros((accumulator_height, accumulator_width, num_radii), dtype=np.uint64)\n",
    "    \n",
    "    # Define radius range for iteration\n",
    "    radii = np.arange(min_radius, max_radius + 1)\n",
    "    \n",
    "    # Find edge pixels in the image to get (x,y) in image space\n",
    "    edge_pixels = np.argwhere(image > 0)\n",
    "    for x, y in edge_pixels:\n",
    "        # Iterate over a range of radii\n",
    "        for radius in range(min_radius, max_radius + 1):\n",
    "            # Calculate center (a, b) using the parametric form of the circle equation\n",
    "            for theta in np.linspace(0, 2*np.pi, 100):  # Iterate over angles for a full circle\n",
    "                a = int(x - radius * np.cos(theta))\n",
    "                b = int(y - radius * np.sin(theta))\n",
    "                \n",
    "                # Boundary check for accumulator array\n",
    "                if 0 <= b < accumulator.shape[0] and 0 <= a < accumulator.shape[1]:\n",
    "                    # Increment accumulator at the position corresponding to the center (a, b)\n",
    "                    accumulator[b, a, radius - min_radius] += 1\n",
    "\n",
    "    # Identify circle candidates by selecting peaks in the accumulator array\n",
    "    circle_candidates = np.argwhere(accumulator >= accumulator_threshold)\n",
    "\n",
    "    # Filter circle candidates based on minimum distance between centers\n",
    "    filtered_circle_candidates = []\n",
    "    for y, x, radius_idx in circle_candidates:\n",
    "        radius = min_radius + radius_idx\n",
    "        valid_circle = True\n",
    "        for y2, x2, radius2_idx in filtered_circle_candidates:\n",
    "            radius2 = min_radius + radius2_idx\n",
    "            distance = np.sqrt((x - x2)**2 + (y - y2)**2)\n",
    "            if distance < min_dist:\n",
    "                valid_circle = False\n",
    "                break\n",
    "        if valid_circle:\n",
    "            filtered_circle_candidates.append((y, x, radius))\n",
    "\n",
    "    return filtered_circle_candidates\n",
    "\n",
    "\n",
    "\n",
    "min_radius = 10\n",
    "max_radius = 50\n",
    "accumulator_threshold = 1000\n",
    "dp = 1\n",
    "min_dist = 100  # Adjust this value as needed\n",
    "\n",
    "circle_candidates = hough_circle_transform(edges, min_radius, max_radius, accumulator_threshold, dp, min_dist)\n",
    "\n",
    "# Draw detected circles on the grayscale version of the original image\n",
    "for y, x, radius in circle_candidates:\n",
    "    cv.circle(image, (x, y), radius, (0, 0, 0), 3)\n",
    "\n",
    "\n",
    "# Detect circles using Hough Circle Transform\n",
    "circles = cv.HoughCircles(edges, cv.HOUGH_GRADIENT, dp=1, minDist=20,\n",
    "                           param1=50, param2=30, minRadius=10, maxRadius=50)\n",
    "\n",
    "# If circles are detected, draw them\n",
    "if circles is not None:\n",
    "    circles = np.round(circles[0, :]).astype(\"int\")\n",
    "    for (x, y, r) in circles:\n",
    "        cv.circle(image, (x, y), r, (0, 0, 0), 2)\n",
    "\n",
    "# Display the image with detected circles\n",
    "# Display the image with detected circles\n",
    "cv.imshow(\"Our Detected Circles\", image)\n",
    "cv.imshow(\"Detected Circles (OpenCV)\", image)\n",
    "cv.waitKey(0)\n",
    "cv.destroyAllWindows()\n"
   ]
  },
  {
   "cell_type": "markdown",
   "metadata": {},
   "source": []
  }
 ],
 "metadata": {
  "kernelspec": {
   "display_name": "Python 3",
   "language": "python",
   "name": "python3"
  },
  "language_info": {
   "codemirror_mode": {
    "name": "ipython",
    "version": 3
   },
   "file_extension": ".py",
   "mimetype": "text/x-python",
   "name": "python",
   "nbconvert_exporter": "python",
   "pygments_lexer": "ipython3",
   "version": "3.11.5"
  }
 },
 "nbformat": 4,
 "nbformat_minor": 2
}
