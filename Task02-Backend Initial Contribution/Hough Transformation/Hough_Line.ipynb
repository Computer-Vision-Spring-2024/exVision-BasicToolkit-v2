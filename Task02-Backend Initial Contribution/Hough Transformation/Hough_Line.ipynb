{
 "cells": [
  {
   "cell_type": "code",
   "execution_count": 10,
   "metadata": {},
   "outputs": [],
   "source": [
    "import cv2 as cv \n",
    "import matplotlib.pyplot as plt \n",
    "import numpy as np \n",
    "import os "
   ]
  },
  {
   "cell_type": "markdown",
   "metadata": {},
   "source": [
    "# Canny Edge\n"
   ]
  },
  {
   "cell_type": "code",
   "execution_count": 11,
   "metadata": {},
   "outputs": [],
   "source": [
    "\n",
    "image_path = 'D:/Muhammad/College/Computer Vision/Assignments/Assignment 2/Hough-Transform-From-Scratch-main/data/road6.jpg'\n",
    "\n",
    "# Load the image\n",
    "image = cv.imread(image_path, cv.IMREAD_GRAYSCALE)\n",
    "\n",
    "# Apply Gaussian blur to reduce noise\n",
    "blurred = cv.GaussianBlur(image, (5, 5), 0)\n",
    "\n",
    "# Canny edge detection\n",
    "edges = cv.Canny(blurred, 50, 180)\n",
    "\n",
    "# Display the original image and the edges\n",
    "cv.imshow('Original Image', image)\n",
    "cv.imshow('Canny Edges', edges)\n",
    "cv.waitKey(0)\n",
    "cv.destroyAllWindows()"
   ]
  },
  {
   "cell_type": "markdown",
   "metadata": {},
   "source": [
    "# CV Hough Line"
   ]
  },
  {
   "cell_type": "code",
   "execution_count": 12,
   "metadata": {},
   "outputs": [],
   "source": [
    "distance_resolution = 1\n",
    "angle_res = np.pi/180\n",
    "threshold = 180\n",
    "\n",
    "lines = cv.HoughLines(edges, distance_resolution, angle_res, threshold)\n",
    "\n",
    "k = 3500\n",
    "for currentLine in lines:\n",
    "    rho, theta = currentLine[0]\n",
    "    dhat = np.array([[np.cos(theta)],[np.sin(theta)]])\n",
    "    d = rho*dhat\n",
    "    lhat = np.array([[-np.sin(theta)],[np.cos(theta)]])\n",
    "    p1 = d + k*lhat\n",
    "    p2 = d - k*lhat\n",
    "    \n",
    "    p1 = p1.astype(int)\n",
    "    p2 = p2.astype(int)\n",
    "    cv.line(image,(p1[0][0],p1[1][0]),(p2[0][0],p2[1][0]),(255,255,255),2)\n",
    "    \n",
    "cv.imshow('Hough Line', image)\n",
    "cv.waitKey(0)\n",
    "cv.destroyAllWindows()"
   ]
  }
 ],
 "metadata": {
  "kernelspec": {
   "display_name": "Python 3",
   "language": "python",
   "name": "python3"
  },
  "language_info": {
   "codemirror_mode": {
    "name": "ipython",
    "version": 3
   },
   "file_extension": ".py",
   "mimetype": "text/x-python",
   "name": "python",
   "nbconvert_exporter": "python",
   "pygments_lexer": "ipython3",
   "version": "3.11.5"
  }
 },
 "nbformat": 4,
 "nbformat_minor": 2
}
