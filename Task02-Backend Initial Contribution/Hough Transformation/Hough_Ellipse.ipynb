{
 "cells": [
  {
   "cell_type": "code",
   "execution_count": null,
   "metadata": {},
   "outputs": [],
   "source": [
    "import cv2\n",
    "import matplotlib.pyplot as plt \n",
    "import numpy as np \n",
    "from collections import defaultdict"
   ]
  },
  {
   "cell_type": "code",
   "execution_count": null,
   "metadata": {},
   "outputs": [],
   "source": [
    "image_path = 'Resources_Coffee_for_ellipse.png'\n",
    "\n",
    "# Load the image\n",
    "image = cv2.imread(image_path, cv2.IMREAD_GRAYSCALE)\n",
    "\n",
    "# Apply Gaussian blur to reduce noise\n",
    "blurred = cv2.GaussianBlur(image, (5, 5), 0)\n",
    "\n",
    "# Canny edge detection\n",
    "edges = cv2.Canny(blurred, 50, 180)\n",
    "\n",
    "# Display the original image and the edges\n",
    "cv2.imshow('Original Image', image)\n",
    "cv2.imshow('Canny Edges', edges)\n",
    "cv2.waitKey(0)\n",
    "cv2.destroyAllWindows()"
   ]
  },
  {
   "cell_type": "markdown",
   "metadata": {},
   "source": [
    "# Ellipse"
   ]
  },
  {
   "cell_type": "code",
   "execution_count": null,
   "metadata": {},
   "outputs": [],
   "source": [
    "# Function to calculate Euclidean distance between two points\n",
    "def _euclidean_distance(p1, p2):\n",
    "    return np.sqrt((p1[0] - p2[0])**2 + (p1[1] - p2[1])**2)\n",
    "\n",
    "def hough_ellipse(edge_image, image, least_distance = 10):\n",
    "    height, width = edge_image.shape[:2]\n",
    "    edge_image_1D = edge_image.flatten()\n",
    "    accumulator = defaultdict(int)\n",
    "    for y1 in range(height):\n",
    "        for x1 in range(width):\n",
    "            for y2 in range(height):\n",
    "                for x2 in range(width):\n",
    "                    # Calculate the Euclidean distance between (x1, y1) and (x2, y2)\n",
    "                    distance = _euclidean_distance((x1, y1), (x2, y2))\n",
    "                    if distance < least_distance:\n",
    "                        # Orientation\n",
    "                        alpha = np.arctan((y2 - y1)/(x2 - x1))\n",
    "                        # Major axis half-length\n",
    "                        a = np.sqrt((x2 - x1)**2 + (y2 - y1)**2)/2\n",
    "                        # Center\n",
    "                        x0 = (x1 + x2)/2\n",
    "                        y0 = (y1 + y2)/2\n",
    "            pass\n",
    "    pass"
   ]
  }
 ],
 "metadata": {
  "kernelspec": {
   "display_name": "Python 3",
   "language": "python",
   "name": "python3"
  },
  "language_info": {
   "codemirror_mode": {
    "name": "ipython",
    "version": 3
   },
   "file_extension": ".py",
   "mimetype": "text/x-python",
   "name": "python",
   "nbconvert_exporter": "python",
   "pygments_lexer": "ipython3",
   "version": "3.11.2"
  }
 },
 "nbformat": 4,
 "nbformat_minor": 2
}
